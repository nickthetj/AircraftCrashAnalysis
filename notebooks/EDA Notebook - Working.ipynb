{
 "cells": [
  {
   "cell_type": "markdown",
   "metadata": {},
   "source": [
    "Initial Data Observation"
   ]
  },
  {
   "cell_type": "code",
   "execution_count": 1,
   "metadata": {},
   "outputs": [],
   "source": [
    "#QUESTIONS WE WANT TO ANSWER:\n",
    "\n",
    "# Determine which aircraft are the lowest risk for the company to start this new business endeavor\n",
    "# They are interested in purchasing and operating airplanes for commercial and private enterprises\n",
    "    #1ST RECC. COMMERCIAL\n",
    "    #2ND RECC. PRIVATE\n",
    "    \n",
    "#Make avs. Model - groupby: 'Make'\n",
    "# then avg severity ratio\n",
    "\n",
    "#remove the makes that have less than 20\n",
    "    #not enough information for these to be sound\n",
    "    \n",
    "#average severity ratio\n",
    "\n",
    "#Think as one of two ways\n",
    "    \n",
    "    \n",
    "# Actionable insights that the head of the new aviation division can use to help decide which aircraft to purchase."
   ]
  },
  {
   "cell_type": "code",
   "execution_count": 2,
   "metadata": {},
   "outputs": [],
   "source": [
    "import pandas as pd\n",
    "import numpy as np\n",
    "import matplotlib.pyplot as plt\n",
    "%matplotlib inline"
   ]
  },
  {
   "cell_type": "code",
   "execution_count": 3,
   "metadata": {},
   "outputs": [],
   "source": [
    "df = pd.read_csv('../data/archive/AviationData.csv', encoding='cp1252', low_memory=False)\n",
    "uscodes_df = pd.read_csv('../data/archive/USState_Codes.csv', encoding='cp1252', low_memory=False)"
   ]
  },
  {
   "cell_type": "code",
   "execution_count": 4,
   "metadata": {},
   "outputs": [
    {
     "name": "stdout",
     "output_type": "stream",
     "text": [
      "<class 'pandas.core.frame.DataFrame'>\n",
      "RangeIndex: 88889 entries, 0 to 88888\n",
      "Data columns (total 31 columns):\n",
      " #   Column                  Non-Null Count  Dtype  \n",
      "---  ------                  --------------  -----  \n",
      " 0   Event.Id                88889 non-null  object \n",
      " 1   Investigation.Type      88889 non-null  object \n",
      " 2   Accident.Number         88889 non-null  object \n",
      " 3   Event.Date              88889 non-null  object \n",
      " 4   Location                88837 non-null  object \n",
      " 5   Country                 88663 non-null  object \n",
      " 6   Latitude                34382 non-null  object \n",
      " 7   Longitude               34373 non-null  object \n",
      " 8   Airport.Code            50249 non-null  object \n",
      " 9   Airport.Name            52790 non-null  object \n",
      " 10  Injury.Severity         87889 non-null  object \n",
      " 11  Aircraft.damage         85695 non-null  object \n",
      " 12  Aircraft.Category       32287 non-null  object \n",
      " 13  Registration.Number     87572 non-null  object \n",
      " 14  Make                    88826 non-null  object \n",
      " 15  Model                   88797 non-null  object \n",
      " 16  Amateur.Built           88787 non-null  object \n",
      " 17  Number.of.Engines       82805 non-null  float64\n",
      " 18  Engine.Type             81812 non-null  object \n",
      " 19  FAR.Description         32023 non-null  object \n",
      " 20  Schedule                12582 non-null  object \n",
      " 21  Purpose.of.flight       82697 non-null  object \n",
      " 22  Air.carrier             16648 non-null  object \n",
      " 23  Total.Fatal.Injuries    77488 non-null  float64\n",
      " 24  Total.Serious.Injuries  76379 non-null  float64\n",
      " 25  Total.Minor.Injuries    76956 non-null  float64\n",
      " 26  Total.Uninjured         82977 non-null  float64\n",
      " 27  Weather.Condition       84397 non-null  object \n",
      " 28  Broad.phase.of.flight   61724 non-null  object \n",
      " 29  Report.Status           82508 non-null  object \n",
      " 30  Publication.Date        75118 non-null  object \n",
      "dtypes: float64(5), object(26)\n",
      "memory usage: 21.0+ MB\n"
     ]
    }
   ],
   "source": [
    "df.info()"
   ]
  },
  {
   "cell_type": "code",
   "execution_count": 5,
   "metadata": {},
   "outputs": [
    {
     "data": {
      "text/html": [
       "<div>\n",
       "<style scoped>\n",
       "    .dataframe tbody tr th:only-of-type {\n",
       "        vertical-align: middle;\n",
       "    }\n",
       "\n",
       "    .dataframe tbody tr th {\n",
       "        vertical-align: top;\n",
       "    }\n",
       "\n",
       "    .dataframe thead th {\n",
       "        text-align: right;\n",
       "    }\n",
       "</style>\n",
       "<table border=\"1\" class=\"dataframe\">\n",
       "  <thead>\n",
       "    <tr style=\"text-align: right;\">\n",
       "      <th></th>\n",
       "      <th>Total Fatal Injuries</th>\n",
       "      <th>Total Serious Injuries</th>\n",
       "      <th>Total Minor Injuries</th>\n",
       "      <th>Total Uninjured</th>\n",
       "      <th>Injured/Uninjured Ratio</th>\n",
       "      <th>Make</th>\n",
       "    </tr>\n",
       "  </thead>\n",
       "  <tbody>\n",
       "    <tr>\n",
       "      <th>0</th>\n",
       "      <td>0.0</td>\n",
       "      <td>0.0</td>\n",
       "      <td>0.0</td>\n",
       "      <td>2.0</td>\n",
       "      <td>0.000000</td>\n",
       "      <td>NaN</td>\n",
       "    </tr>\n",
       "    <tr>\n",
       "      <th>1</th>\n",
       "      <td>0.0</td>\n",
       "      <td>0.0</td>\n",
       "      <td>0.0</td>\n",
       "      <td>1.0</td>\n",
       "      <td>0.000000</td>\n",
       "      <td>NaN</td>\n",
       "    </tr>\n",
       "    <tr>\n",
       "      <th>2</th>\n",
       "      <td>1.0</td>\n",
       "      <td>0.0</td>\n",
       "      <td>0.0</td>\n",
       "      <td>0.0</td>\n",
       "      <td>3.000000</td>\n",
       "      <td>NaN</td>\n",
       "    </tr>\n",
       "    <tr>\n",
       "      <th>3</th>\n",
       "      <td>0.0</td>\n",
       "      <td>0.0</td>\n",
       "      <td>0.0</td>\n",
       "      <td>2.0</td>\n",
       "      <td>0.000000</td>\n",
       "      <td>NaN</td>\n",
       "    </tr>\n",
       "    <tr>\n",
       "      <th>4</th>\n",
       "      <td>2.0</td>\n",
       "      <td>0.0</td>\n",
       "      <td>0.0</td>\n",
       "      <td>7.0</td>\n",
       "      <td>0.666667</td>\n",
       "      <td>NaN</td>\n",
       "    </tr>\n",
       "    <tr>\n",
       "      <th>...</th>\n",
       "      <td>...</td>\n",
       "      <td>...</td>\n",
       "      <td>...</td>\n",
       "      <td>...</td>\n",
       "      <td>...</td>\n",
       "      <td>...</td>\n",
       "    </tr>\n",
       "    <tr>\n",
       "      <th>18041</th>\n",
       "      <td>0.0</td>\n",
       "      <td>0.0</td>\n",
       "      <td>0.0</td>\n",
       "      <td>1.0</td>\n",
       "      <td>0.000000</td>\n",
       "      <td>NaN</td>\n",
       "    </tr>\n",
       "    <tr>\n",
       "      <th>18042</th>\n",
       "      <td>0.0</td>\n",
       "      <td>0.0</td>\n",
       "      <td>0.0</td>\n",
       "      <td>1.0</td>\n",
       "      <td>0.000000</td>\n",
       "      <td>NaN</td>\n",
       "    </tr>\n",
       "    <tr>\n",
       "      <th>18043</th>\n",
       "      <td>0.0</td>\n",
       "      <td>0.0</td>\n",
       "      <td>0.0</td>\n",
       "      <td>1.0</td>\n",
       "      <td>0.000000</td>\n",
       "      <td>NaN</td>\n",
       "    </tr>\n",
       "    <tr>\n",
       "      <th>18044</th>\n",
       "      <td>0.0</td>\n",
       "      <td>1.0</td>\n",
       "      <td>0.0</td>\n",
       "      <td>0.0</td>\n",
       "      <td>2.000000</td>\n",
       "      <td>NaN</td>\n",
       "    </tr>\n",
       "    <tr>\n",
       "      <th>18045</th>\n",
       "      <td>0.0</td>\n",
       "      <td>0.0</td>\n",
       "      <td>0.0</td>\n",
       "      <td>1.0</td>\n",
       "      <td>0.000000</td>\n",
       "      <td>NaN</td>\n",
       "    </tr>\n",
       "  </tbody>\n",
       "</table>\n",
       "<p>18046 rows × 6 columns</p>\n",
       "</div>"
      ],
      "text/plain": [
       "       Total Fatal Injuries  Total Serious Injuries  Total Minor Injuries  \\\n",
       "0                       0.0                     0.0                   0.0   \n",
       "1                       0.0                     0.0                   0.0   \n",
       "2                       1.0                     0.0                   0.0   \n",
       "3                       0.0                     0.0                   0.0   \n",
       "4                       2.0                     0.0                   0.0   \n",
       "...                     ...                     ...                   ...   \n",
       "18041                   0.0                     0.0                   0.0   \n",
       "18042                   0.0                     0.0                   0.0   \n",
       "18043                   0.0                     0.0                   0.0   \n",
       "18044                   0.0                     1.0                   0.0   \n",
       "18045                   0.0                     0.0                   0.0   \n",
       "\n",
       "       Total Uninjured  Injured/Uninjured Ratio Make  \n",
       "0                  2.0                 0.000000  NaN  \n",
       "1                  1.0                 0.000000  NaN  \n",
       "2                  0.0                 3.000000  NaN  \n",
       "3                  2.0                 0.000000  NaN  \n",
       "4                  7.0                 0.666667  NaN  \n",
       "...                ...                      ...  ...  \n",
       "18041              1.0                 0.000000  NaN  \n",
       "18042              1.0                 0.000000  NaN  \n",
       "18043              1.0                 0.000000  NaN  \n",
       "18044              0.0                 2.000000  NaN  \n",
       "18045              1.0                 0.000000  NaN  \n",
       "\n",
       "[18046 rows x 6 columns]"
      ]
     },
     "execution_count": 5,
     "metadata": {},
     "output_type": "execute_result"
    }
   ],
   "source": [
    "# Replace'.' with ' '\n",
    "df.columns = [c.replace('.', ' ') for c in df]\n",
    "\n",
    "#We are only concerned with Airplanes in the Aircraft Category\n",
    "df = df[df['Aircraft Category'] == 'Airplane']\n",
    "\n",
    "#Standardizing all of the airplane makes by capitalizing.\n",
    "df['Make'] = df['Make'].str.upper()\n",
    "df['Air carrier'] = df['Air carrier'].str.title()\n",
    "\n",
    "df['Weather Condition'] = df['Weather Condition'].str.upper()\n",
    "\n",
    "#Dropping rows that are 'Amateur Built == 'Yes''\n",
    "df = df[df['Amateur Built'] == 'No']\n",
    "\n",
    "#Dropping columns that are not relevant\n",
    "df = df.drop(columns=['Amateur Built', 'Injury Severity', 'Weather Condition', 'Publication Date', 'Aircraft Category', 'Latitude', 'Longitude', \n",
    "                                        'Airport Code', 'Airport Name', 'Registration Number', 'Event Id', 'Air carrier', 'Schedule', 'Broad phase of flight'])\n",
    "\n",
    "df['FAR Description'].replace(to_replace= '121', value='Part 121', inplace=True)\n",
    "df['FAR Description'].replace(to_replace= '135', value='Part 135', inplace=True)\n",
    "df['FAR Description'].replace(to_replace= '137', value='Part 137', inplace=True)\n",
    "df['FAR Description'].replace(to_replace= '129', value='Part 129', inplace=True)\n",
    "df['FAR Description'].replace(to_replace= 'Part 137', value='Part 137: Agricultural', inplace=True)\n",
    "df['FAR Description'].replace(to_replace= 'Part 135', value='Part 135: Air Taxi & Commuter', inplace=True)\n",
    "df['FAR Description'].replace(to_replace= 'Part 121', value='Part 121: Air Carrier', inplace=True)\n",
    "df['FAR Description'].replace(to_replace= 'Part 129', value='Part 129: Foreign', inplace=True)\n",
    "df['FAR Description'].replace(to_replace= 'Part 129', value='Part 129: Foreign', inplace=True)\n",
    "df['FAR Description'].replace(to_replace= 'NUSN', value='Non-U.S., Non-Commercial', inplace=True)\n",
    "df['FAR Description'].replace(to_replace= 'NUSC', value='Non-U.S., Commercial', inplace=True)\n",
    "df['FAR Description'].replace(to_replace= '091', value='Part 91: General Aviation', inplace=True)\n",
    "df['FAR Description'].replace(to_replace= '125', value='Part 125: 20+ Pax,6000+ lbs', inplace=True)\n",
    "df['FAR Description'].replace(to_replace= 'UNK', value='Unknown', inplace=True)\n",
    "\n",
    "#Keep 'Part 91: General Aviation', 'Non-U.S., Commercial', 'Part 121: Air Carrier', 'Part 129: Foreign', 'Unknown' \n",
    "df = df[(df['FAR Description']=='Part 91: General Aviation') | (df['FAR Description']=='Non-U.S., Commercial') |\n",
    "  (df['FAR Description']=='Part 121: Air Carrier') | (df['FAR Description']=='Part 129: Foreign') |\n",
    "  (df['FAR Description']=='Unknown')]                 \n",
    "\n",
    "#Dropping all rows before 1990 - Average lifespan for a plane is 30 years                \n",
    "df = df[(df['Event Date'] > '1990-00-00')]\n",
    "\n",
    "#CREATING A RATIO OF INJURIES TO UNINJURED\n",
    "df_injuries = df[['Total Fatal Injuries', 'Total Serious Injuries', 'Total Minor Injuries', 'Total Uninjured']].fillna(0)\n",
    "df_injuries\n",
    "injuries = df_injuries['Total Fatal Injuries']*3 + df_injuries['Total Serious Injuries']*2 - df_injuries['Total Minor Injuries']\n",
    "total = df_injuries['Total Fatal Injuries'] + df_injuries['Total Serious Injuries'] + df_injuries['Total Minor Injuries'] + df_injuries['Total Uninjured']\n",
    "severity = injuries/total\n",
    "df_injuries['Severity Ratio'] = severity*100\n",
    "df_injuries.reset_index(inplace=True)\n",
    "df_injuries.drop(axis=1, labels='index', inplace=True)\n",
    "df_injuries\n",
    "\n",
    "df_injuries['Make'] = df['Make'] +\n",
    "df_injuries\n"
   ]
  },
  {
   "cell_type": "code",
   "execution_count": 6,
   "metadata": {},
   "outputs": [
    {
     "data": {
      "text/plain": [
       "<pandas.core.groupby.generic.DataFrameGroupBy object at 0x7f95a270a880>"
      ]
     },
     "execution_count": 6,
     "metadata": {},
     "output_type": "execute_result"
    }
   ],
   "source": [
    "df.groupby('Make')"
   ]
  },
  {
   "cell_type": "code",
   "execution_count": 7,
   "metadata": {},
   "outputs": [],
   "source": [
    "#Merge double values\n",
    "#aviation_df.replace(to_replace=, value= )"
   ]
  },
  {
   "cell_type": "code",
   "execution_count": 8,
   "metadata": {},
   "outputs": [],
   "source": [
    "#'Engine Type' column - nothing to clean yet\n",
    "#aviation_df['Engine Type'].value_counts()"
   ]
  },
  {
   "cell_type": "code",
   "execution_count": 9,
   "metadata": {},
   "outputs": [],
   "source": [
    "#aviation_df['Schedule'].value_counts()\n",
    "#SCHD    1497\n",
    "#NSCH    1237\n",
    "#UNK      256"
   ]
  },
  {
   "cell_type": "code",
   "execution_count": 10,
   "metadata": {},
   "outputs": [],
   "source": [
    "#Get rid of a lot in this column\n",
    "#df['Purpose of flight'].value_counts()"
   ]
  },
  {
   "cell_type": "code",
   "execution_count": 11,
   "metadata": {},
   "outputs": [],
   "source": [
    "#len(aviation_df['Air carrier'].unique())"
   ]
  },
  {
   "cell_type": "code",
   "execution_count": 12,
   "metadata": {},
   "outputs": [],
   "source": [
    "#THIS CATEGORY MAYBE SHOULD NOT BE CONSIDERED RELEVANT - want airplane to operate in all weather conditions\n",
    "#aviation_df['Weather Condition'].value_counts()"
   ]
  },
  {
   "cell_type": "code",
   "execution_count": 13,
   "metadata": {},
   "outputs": [],
   "source": [
    "#THIS CATEGORY MAYBE SHOULD NOT BE CONSIDERED RELEVANT - \n",
    "#the phase of the flgiht when the incident/accident occured should not matter\n",
    "#aviation_df['Broad phase of flight'].value_counts()"
   ]
  },
  {
   "cell_type": "code",
   "execution_count": 14,
   "metadata": {},
   "outputs": [],
   "source": [
    "#THIS CATEGORY MAYBE SHOULD NOT BE CONSIDERED RELEVANT - the written report of the incident\n",
    "#aviation_df['Air carrier'].value_counts()"
   ]
  },
  {
   "cell_type": "code",
   "execution_count": 15,
   "metadata": {},
   "outputs": [],
   "source": [
    "#aviation_df['Event Date'].value_counts()"
   ]
  },
  {
   "cell_type": "code",
   "execution_count": null,
   "metadata": {},
   "outputs": [],
   "source": []
  }
 ],
 "metadata": {
  "kernelspec": {
   "display_name": "Python 3",
   "language": "python",
   "name": "python3"
  },
  "language_info": {
   "codemirror_mode": {
    "name": "ipython",
    "version": 3
   },
   "file_extension": ".py",
   "mimetype": "text/x-python",
   "name": "python",
   "nbconvert_exporter": "python",
   "pygments_lexer": "ipython3",
   "version": "3.8.5"
  }
 },
 "nbformat": 4,
 "nbformat_minor": 5
}
