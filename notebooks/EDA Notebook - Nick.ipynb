{
 "cells": [
  {
   "cell_type": "markdown",
   "id": "816d7045",
   "metadata": {},
   "source": [
    "# EDA Notebook"
   ]
  },
  {
   "cell_type": "markdown",
   "id": "57e1ee7f",
   "metadata": {},
   "source": [
    "## Importing libraries"
   ]
  },
  {
   "cell_type": "code",
   "execution_count": 1,
   "id": "bef0dd64",
   "metadata": {},
   "outputs": [],
   "source": [
    "import pandas as pd\n",
    "import numpy as np\n",
    "import matplotlib.pyplot as plt\n",
    "import seaborn as sns\n",
    "sns.set_theme()\n",
    "\n",
    "%matplotlib inline"
   ]
  },
  {
   "cell_type": "markdown",
   "id": "c66ffede",
   "metadata": {},
   "source": [
    "## Reading in CSV"
   ]
  },
  {
   "cell_type": "code",
   "execution_count": 2,
   "id": "3ee57ed2",
   "metadata": {},
   "outputs": [],
   "source": [
    "df = pd.read_csv(\"../data/archive/AviationData.csv\", encoding='cp1252', low_memory=False)\n",
    "# US_State_Codes = pd.read_csv('../data/archive/USState_Codes.csv', encoding='cp1252', low_memory=False)"
   ]
  },
  {
   "cell_type": "markdown",
   "id": "dc41d39d",
   "metadata": {},
   "source": [
    "## Data Cleaning"
   ]
  },
  {
   "cell_type": "code",
   "execution_count": 3,
   "id": "6a2e62d6",
   "metadata": {
    "scrolled": false
   },
   "outputs": [],
   "source": [
    "# Data Cleaning \n",
    "df.columns = df.columns.str.replace('.', ' ', regex=True)\n",
    "df.columns = df.columns.str.title()\n",
    "# dropping rows that are non-Airplane related\n",
    "df = df[(df['Aircraft Category'] == 'Airplane')]\n",
    "# dropping rows that are Amateur-Built aircraft\n",
    "df = df[(df['Amateur Built'] == 'No')]\n",
    "# capitalizing all Make strings to avoid double categories\n",
    "df['Make'] = df['Make'].str.title() \n",
    "# capitalizing all Air Carrier strings to avoid double categories\n",
    "df['Air Carrier'] = df['Air Carrier'].str.title() \n",
    "# capitalizing all Air Carrier strings to avoid double categories\n",
    "df['Weather Condition'] = df['Weather Condition'].str.upper() \n",
    "# dropping unimportant columns, mostly ID numbers\n",
    "df.drop(axis=1, inplace=True, labels=['Aircraft Category', 'Airport Code', 'Publication Date', 'Weather Condition',\n",
    "                                      'Airport Name', 'Amateur Built', 'Event Id', 'Accident Number', 'Registration Number', \n",
    "                                      'Schedule', 'Broad Phase Of Flight', 'Latitude', 'Longitude', 'Air Carrier',\n",
    "                                     'Report Status'])\n",
    "# reconciling different index names under Far Description\n",
    "df['Far Description'].replace(to_replace= '121', value='Part 121', inplace=True)\n",
    "df['Far Description'].replace(to_replace= '135', value='Part 135', inplace=True)\n",
    "df['Far Description'].replace(to_replace= '137', value='Part 137', inplace=True)\n",
    "df['Far Description'].replace(to_replace= '129', value='Part 129', inplace=True)\n",
    "df['Far Description'].replace(to_replace= 'Part 137', value='Part 137: Agricultural', inplace=True)\n",
    "df['Far Description'].replace(to_replace= 'Part 135', value='Part 135: Air Taxi & Commuter', inplace=True)\n",
    "df['Far Description'].replace(to_replace= 'Part 121', value='Part 121: Air Carrier', inplace=True)\n",
    "df['Far Description'].replace(to_replace= 'Part 129', value='Part 129: Foreign', inplace=True)\n",
    "df['Far Description'].replace(to_replace= 'Part 129', value='Part 129: Foreign', inplace=True)\n",
    "df['Far Description'].replace(to_replace= 'NUSN', value='Non-U.S., Non-Commercial', inplace=True)\n",
    "df['Far Description'].replace(to_replace= 'NUSC', value='Non-U.S., Commercial', inplace=True)\n",
    "df['Far Description'].replace(to_replace= '091', value='Part 91: General Aviation', inplace=True)\n",
    "df['Far Description'].replace(to_replace= '125', value='Part 125: 20+ Pax,6000+ lbs', inplace=True)\n",
    "df['Far Description'].replace(to_replace= 'UNK', value='Unknown', inplace=True)\n",
    "# dropping rows from far description that are not relevant\n",
    "df = df[(df['Far Description']=='Part 91: General Aviation') | (df['Far Description']=='Non-U.S., Commercial') |\n",
    "  (df['Far Description']=='Part 121: Air Carrier') | (df['Far Description']=='Part 129: Foreign') |\n",
    "  (df['Far Description']=='Unknown')]\n",
    "# cutting off events that occured before 1990\n",
    "df = df[(df['Event Date'] > '1990-00-00')]\n",
    "\n",
    "# df.head()"
   ]
  },
  {
   "cell_type": "markdown",
   "id": "efe6ac4e",
   "metadata": {},
   "source": [
    "## Creating Seperate Dataframe For Severity Ratio Series"
   ]
  },
  {
   "cell_type": "code",
   "execution_count": 4,
   "id": "fd8aa0a7",
   "metadata": {},
   "outputs": [],
   "source": [
    "df_injuries = df[['Total Fatal Injuries', 'Total Serious Injuries', 'Total Minor Injuries', 'Total Uninjured']].fillna(0)\n",
    "\n",
    "# calculating severity ratio using injured divided by total people on \n",
    "severity = df_injuries['Total Fatal Injuries']*5 + df_injuries['Total Serious Injuries']*2.5 + df_injuries['Total Minor Injuries'] - df_injuries['Total Uninjured']*2\n",
    "\n",
    "# adding severity ratio series into df_injuries dataframe\n",
    "df_injuries['Severity Ratio'] = severity\n",
    "df_injuries.reset_index(inplace=True, drop=True)\n",
    "\n",
    "# adding model and make series into df_injuries dataframe\n",
    "Make = pd.Series(name = 'Make', data = df['Make']).reset_index(drop=True)\n",
    "Model_And_Make = pd.Series(name = 'Model & Make', data = (df['Make'] + ': ' + df['Model'])).reset_index(drop=True)\n",
    "df_injuries['Model And Make'] = Model_And_Make\n",
    "df_injuries['Make'] = Make\n",
    "df_injuries.dropna(subset=['Model And Make'], inplace=True)\n",
    "\n",
    "# df_injuries"
   ]
  },
  {
   "cell_type": "code",
   "execution_count": 5,
   "id": "238b1ccc",
   "metadata": {
    "scrolled": true
   },
   "outputs": [],
   "source": [
    "top_50_makenmodel = list(df_injuries['Model And Make'].value_counts()[:50].index)"
   ]
  },
  {
   "cell_type": "code",
   "execution_count": 6,
   "id": "6104daf6",
   "metadata": {},
   "outputs": [],
   "source": [
    "top_60_makes = list(df_injuries['Make'].value_counts()[:60].index)"
   ]
  },
  {
   "cell_type": "code",
   "execution_count": 7,
   "id": "0b7fa7f3",
   "metadata": {
    "scrolled": true
   },
   "outputs": [],
   "source": [
    "df_injuries = df_injuries[(df_injuries['Make'].isin(top_60_makes))]\n",
    "# df_injuries.info()"
   ]
  },
  {
   "cell_type": "code",
   "execution_count": 8,
   "id": "18e37bf8",
   "metadata": {},
   "outputs": [],
   "source": [
    "df_injuries['Make'].replace(to_replace= 'Cirrus Design Corp', value='Cirrus', regex=True, inplace=True)\n",
    "df_injuries['Make'].replace(to_replace= 'Cirrus Design Corp.', value='Cirrus', regex=True, inplace=True)\n",
    "df_injuries['Make'].replace(to_replace= 'Cessna Aircraft Co', value='Cessna', regex=True, inplace=True)\n",
    "df_injuries['Make'].replace(to_replace= 'Aviat Aircraft Inc', value='Aviat', regex=True, inplace=True)\n",
    "df_injuries['Make'].replace(to_replace= 'Diamond Aircraft Ind Inc', value='Diamond', regex=True, inplace=True)\n",
    "df_injuries['Make'].replace(to_replace= 'Piper Aircraft Inc', value='Piper', regex=True, inplace=True)\n",
    "df_injuries['Make'].replace(to_replace= 'American Champion Aircraft', value='American Champion', regex=True, inplace=True)\n",
    "df_injuries['Make'].replace(to_replace= 'Champion', value='American Champion', regex=True, inplace=True)\n",
    "df_injuries['Make'].replace(to_replace= 'Grumman American Avn. Corp.', value='Grumman', regex=True, inplace=True)\n",
    "df_injuries['Make'].replace(to_replace= 'Bombardier Inc', value='Bombardier', regex=True, inplace=True)\n",
    "df_injuries['Make'].replace(to_replace= 'Airbus Industrie', value='Airbus', regex=True, inplace=True)\n",
    "df_injuries['Make'].replace(to_replace= 'Rockwell International', value='Rockwell', regex=True, inplace=True)\n",
    "df_injuries['Make'].replace(to_replace= 'Mooney Aircraft Corp.', value='Mooney', regex=True, inplace=True)\n",
    "df_injuries['Make'].replace(to_replace= 'Dehavilland', value='De Havilland', regex=True, inplace=True)\n",
    "df_injuries['Make'].replace(to_replace= 'Flight Design Gmbh', value='Flight Design', regex=True, inplace=True)\n",
    "df_injuries['Make'].replace(to_replace= 'Air Tractor', value='Air Tractor Inc', regex=True, inplace=True)\n",
    "df_injuries['Make'].replace(to_replace= 'Evektor-Aerotechnik As', value='Evektor-Aerotechnik', regex=True, inplace=True)\n",
    "df_injuries['Make'].replace(to_replace= 'Costruzioni Aeronautiche Tecna', value='Tecnam Costruzioni', regex=True, inplace=True)"
   ]
  },
  {
   "cell_type": "markdown",
   "id": "aeab29f9",
   "metadata": {},
   "source": [
    "## Plotting Severity Ratio For Makes"
   ]
  },
  {
   "cell_type": "code",
   "execution_count": 9,
   "id": "6b40abac",
   "metadata": {
    "scrolled": true
   },
   "outputs": [],
   "source": [
    "# sns.set_theme()\n",
    "# fig, ax = plt.subplots(figsize=(13,8))\n",
    "# ax.scatter(x='Make', y='Severity Ratio', alpha=0.2, data= df_injuries[:1500])\n",
    "# ax.tick_params(axis='x', labelsize=8, labelrotation=45)\n",
    "# plt.tight_layout()"
   ]
  },
  {
   "cell_type": "markdown",
   "id": "7daec53f",
   "metadata": {},
   "source": [
    "## Plotting Average Severity To Identify Best Makes"
   ]
  },
  {
   "cell_type": "code",
   "execution_count": 10,
   "id": "99dc2330",
   "metadata": {},
   "outputs": [],
   "source": [
    "#groupby average\n",
    "avg_sev_ratio_make = df_injuries.groupby('Make').mean(numeric_only=True)['Severity Ratio']\n",
    "avg_sev_ratio_make_index = list(avg_sev_ratio_make.index)\n",
    "avg_sev_ratio_make_value =  list(avg_sev_ratio_make.values)"
   ]
  },
  {
   "cell_type": "code",
   "execution_count": 11,
   "id": "a0d6c42a",
   "metadata": {
    "scrolled": true
   },
   "outputs": [],
   "source": [
    "# fig, ax = plt.subplots(figsize=(13,8))\n",
    "# ax.scatter(x=avg_sev_ratio_make_index, y=avg_sev_ratio_make_value, alpha=1)\n",
    "# ax.tick_params(axis='x', labelsize=8, labelrotation=45)\n",
    "# plt.tight_layout()"
   ]
  },
  {
   "cell_type": "code",
   "execution_count": 12,
   "id": "1b549325",
   "metadata": {},
   "outputs": [],
   "source": [
    "# split private and commercial aircraft based on mean severity ratio (SplitMean)\n",
    "\n",
    "SplitMean = -10\n",
    "\n",
    "CommercialMake = {make: mean for make, mean in dict(avg_sev_ratio_make).items() if mean < SplitMean}\n",
    "PrivateMake = {make: mean for make, mean in dict(avg_sev_ratio_make).items() if mean > SplitMean}\n",
    "CommercialList = [make for make, mean in dict(avg_sev_ratio_make).items() if mean < SplitMean]\n",
    "PrivateList = [make for make, mean in dict(avg_sev_ratio_make).items() if mean > SplitMean]\n",
    "CommercialMake = pd.Series(CommercialMake, name = 'Commercial Make')\n",
    "PrivateMake = pd.Series(PrivateMake, name = 'Private Make')"
   ]
  },
  {
   "cell_type": "code",
   "execution_count": 13,
   "id": "86841a27",
   "metadata": {
    "scrolled": false
   },
   "outputs": [],
   "source": [
    "# plotting commercial aircraft severity means\n",
    "\n",
    "# fig, ax = plt.subplots(figsize=(13,8))\n",
    "# ax.scatter(x=list(CommercialMake.index), y=list(CommercialMake.values), alpha=1)\n",
    "# ax.tick_params(axis='x', labelsize=8, labelrotation=45)\n",
    "# plt.tight_layout()"
   ]
  },
  {
   "cell_type": "code",
   "execution_count": 14,
   "id": "d076b9d4",
   "metadata": {
    "scrolled": true
   },
   "outputs": [],
   "source": [
    "# plotting private aircraft severity means\n",
    "\n",
    "# fig, ax = plt.subplots(figsize=(13,8))\n",
    "# ax.scatter(x=list(PrivateMake.index), y=list(PrivateMake.values), alpha=1)\n",
    "# ax.tick_params(axis='x', labelsize=6, labelrotation=45)\n",
    "# plt.tight_layout()"
   ]
  },
  {
   "cell_type": "code",
   "execution_count": 15,
   "id": "cac33f9d",
   "metadata": {},
   "outputs": [],
   "source": [
    "df_Commercial = df_injuries[(df_injuries['Make'].isin(CommercialList))][['Severity Ratio', 'Model And Make', 'Make']].reset_index(drop=True)\n",
    "CommercialSeverityRatios = list(df_Commercial['Severity Ratio'].values)\n",
    "CommercialMakes = list(df_Commercial['Make'].values)\n",
    "\n",
    "df_Private = df_injuries[(df_injuries['Make'].isin(PrivateList))][['Severity Ratio', 'Model And Make', 'Make']].reset_index(drop=True)\n",
    "PrivateSeverityRatios = list(df_Private['Severity Ratio'].values)\n",
    "PrivateMakes = list(df_Private['Make'].values)"
   ]
  },
  {
   "cell_type": "code",
   "execution_count": 16,
   "id": "1887ca49",
   "metadata": {},
   "outputs": [],
   "source": [
    "# fig, ax = plt.subplots(figsize=(13,8))\n",
    "# ax.scatter(x=CommercialMakes, y=CommercialSeverityRatios, alpha=0.2)\n",
    "# ax.tick_params(axis='x', labelsize=14, labelrotation=45)\n",
    "# plt.tight_layout()"
   ]
  },
  {
   "cell_type": "code",
   "execution_count": 17,
   "id": "e5507c44",
   "metadata": {},
   "outputs": [],
   "source": [
    "# fig, ax = plt.subplots(figsize=(13,8))\n",
    "# ax.scatter(x=PrivateMakes, y=PrivateSeverityRatios, alpha=0.2)\n",
    "# ax.tick_params(axis='x', labelsize=8, labelrotation=45)\n",
    "# ax.set_ylim(bottom=-50, top=75)\n",
    "# plt.tight_layout()"
   ]
  },
  {
   "cell_type": "markdown",
   "id": "0a4a6284",
   "metadata": {},
   "source": [
    "## Commercial Aircraft Model Recommendations"
   ]
  },
  {
   "cell_type": "markdown",
   "id": "962a8435",
   "metadata": {},
   "source": [
    "### recommend A320 (104 val count) and A330 (43 val count) for airbus"
   ]
  },
  {
   "cell_type": "code",
   "execution_count": 18,
   "id": "06bbc740",
   "metadata": {
    "scrolled": false
   },
   "outputs": [],
   "source": [
    "# Narrowing down best craft for Airbus\n",
    "\n",
    "df_Airbus = df_Commercial[(df_Commercial['Make'].isin(['Airbus']))].reset_index(drop=True)\n",
    "df_Airbus['Model And Make'].replace(to_replace= 'Airbus Industrie:', value='Airbus:', inplace=True, regex=True)\n",
    "df_Airbus['Model And Make'].replace(to_replace= 'Airbus: ', value='', inplace=True, regex=True)\n",
    "df_Airbus['Model And Make'].replace(to_replace= ' ', value='', inplace=True, regex=True)\n",
    "df_Airbus['Model And Make'].replace(to_replace= 'A', value='', inplace=True, regex=True)\n",
    "df_Airbus['Model And Make'].replace(to_replace= '-', value='', inplace=True, regex=True)\n",
    "df_Airbus['Model And Make'] = df_Airbus['Model And Make'].str[:3]"
   ]
  },
  {
   "cell_type": "code",
   "execution_count": 19,
   "id": "9ad57512",
   "metadata": {
    "scrolled": false
   },
   "outputs": [],
   "source": [
    "# fig, ax = plt.subplots(figsize=(10,6))\n",
    "# ax.scatter(x='Model And Make', y='Severity Ratio', data= df_Airbus, alpha=0.3)\n",
    "# ax.tick_params(axis='x', labelsize=10, labelrotation=45)\n",
    "# ax.set_title('Airbus Severity Distribution')\n",
    "# plt.tight_layout()"
   ]
  },
  {
   "cell_type": "markdown",
   "id": "f0be4ae5",
   "metadata": {},
   "source": [
    "### recommend B777 (value counts = 107) and B737 (value counts = 508)"
   ]
  },
  {
   "cell_type": "code",
   "execution_count": 20,
   "id": "c89781cb",
   "metadata": {},
   "outputs": [],
   "source": [
    "# Narrowing down best craft for Boeing\n",
    "\n",
    "df_Boeing = df_Commercial[(df_Commercial['Make'].isin(['Boeing']))].reset_index(drop=True)\n",
    "df_Boeing['Model And Make'].replace(to_replace= 'Boeing:', value='', inplace=True, regex=True)\n",
    "df_Boeing['Model And Make'].replace(to_replace= ' ', value='', inplace=True, regex=True)\n",
    "df_Boeing['Model And Make'].replace(to_replace= '-', value='', inplace=True, regex=True)\n",
    "df_Boeing['Model And Make'].replace(to_replace= 'B', value='', inplace=True, regex=True)\n",
    "df_Boeing['Model And Make'].value_counts()[:50]\n",
    "df_Boeing['Model And Make'] = df_Boeing['Model And Make'].str[:3]"
   ]
  },
  {
   "cell_type": "code",
   "execution_count": 21,
   "id": "7879c83f",
   "metadata": {},
   "outputs": [],
   "source": [
    "# fig, ax = plt.subplots(figsize=(13,8))\n",
    "# ax.scatter(x='Model And Make', y='Severity Ratio', data= df_Boeing, alpha=0.3)\n",
    "# ax.tick_params(axis='x', labelsize=10, labelrotation=45)\n",
    "# ax.set_title('Boeing Severity Distribution')\n",
    "# plt.tight_layout()"
   ]
  },
  {
   "cell_type": "markdown",
   "id": "6779737f",
   "metadata": {},
   "source": [
    "## Private Aircraft Model Recommendations"
   ]
  },
  {
   "cell_type": "code",
   "execution_count": 22,
   "id": "13e88744",
   "metadata": {},
   "outputs": [],
   "source": [
    "# Narrowing down best craft for Cessna\n",
    "\n",
    "df_Cessna = df_Private[(df_Private['Make'].isin(['Cessna']))].reset_index(drop=True)\n",
    "df_Cessna['Model And Make'].replace(to_replace= 'Cessna: ', value='', inplace=True, regex=True)\n",
    "df_Cessna['Model And Make'].replace(to_replace= ' ', value='', inplace=True, regex=True)\n",
    "df_Cessna['Model And Make'].replace(to_replace= 'A', value='', inplace=True, regex=True)\n",
    "df_Cessna['Model And Make'].replace(to_replace= 'R', value='', inplace=True, regex=True)\n",
    "df_Cessna['Model And Make'].replace(to_replace= 'K', value='', inplace=True, regex=True)\n",
    "df_Cessna['Model And Make'].replace(to_replace= 'P', value='', inplace=True, regex=True)\n",
    "df_Cessna['Model And Make'].replace(to_replace= 'T', value='', inplace=True, regex=True)\n",
    "df_Cessna['Model And Make'].replace(to_replace= 'U', value='', inplace=True, regex=True)\n",
    "df_Cessna['Model And Make'].replace(to_replace= 'C', value='', inplace=True, regex=True)\n",
    "df_Cessna['Model And Make'].replace(to_replace= 'L', value='', inplace=True, regex=True)\n",
    "df_Cessna['Model And Make'].replace(to_replace= '-', value='', inplace=True, regex=True)\n",
    "df_Cessna['Model And Make'].replace(to_replace= 'S', value='', inplace=True, regex=True)\n",
    "df_Cessna['Model And Make'].replace(to_replace= 'E', value='', inplace=True, regex=True)\n",
    "df_Cessna['Model And Make'].replace(to_replace= 'F', value='', inplace=True, regex=True)\n",
    "df_Cessna['Model And Make'] = df_Cessna['Model And Make'].str[:3]\n"
   ]
  },
  {
   "cell_type": "code",
   "execution_count": 23,
   "id": "1f98ae25",
   "metadata": {},
   "outputs": [],
   "source": [
    "# fig, ax = plt.subplots(figsize=(13,8))\n",
    "# ax.scatter(x='Model And Make', y='Severity Ratio', data= df_Cessna, alpha=0.15)\n",
    "# ax.tick_params(axis='x', labelsize=10, labelrotation=45)\n",
    "# ax.set_title('Cessna Severity Distribution')\n",
    "# ax.set_ylim(top=65, bottom=-40)\n",
    "# plt.tight_layout()\n",
    "# do grouby mean then decide based off of that since its flat across the board"
   ]
  },
  {
   "cell_type": "markdown",
   "id": "74508393",
   "metadata": {},
   "source": [
    "### recommend DHC6, DHC2 is not in production anymore"
   ]
  },
  {
   "cell_type": "code",
   "execution_count": 24,
   "id": "692b7da3",
   "metadata": {
    "scrolled": false
   },
   "outputs": [],
   "source": [
    "# Narrowing down best craft for De Havilland\n",
    "\n",
    "df_DeHavilland = df_Private[(df_Private['Make'].isin(['De Havilland']))].reset_index(drop=True)\n",
    "df_DeHavilland['Model And Make'].replace(to_replace= 'De Havilland: ', value='', inplace=True, regex=True)\n",
    "df_DeHavilland['Model And Make'].replace(to_replace= 'Dehavilland: ', value='', inplace=True, regex=True)\n",
    "df_DeHavilland['Model And Make'].replace(to_replace= ' ', value='', inplace=True, regex=True)\n",
    "df_DeHavilland['Model And Make'].replace(to_replace= '-', value='', inplace=True, regex=True)\n",
    "df_DeHavilland['Model And Make'].replace(to_replace= 'BEAVER', value='', inplace=True, regex=True)\n",
    "df_DeHavilland['Model And Make'].replace(to_replace= 'Beaver', value='', inplace=True, regex=True)\n",
    "df_DeHavilland['Model And Make'].replace(to_replace= 'TIGERMOTH', value='', inplace=True, regex=True)\n",
    "df_DeHavilland['Model And Make'].replace(to_replace= 'VENOM', value='', inplace=True, regex=True)\n",
    "df_DeHavilland['Model And Make'].replace(to_replace= 'Venom', value='', inplace=True, regex=True)\n",
    "df_DeHavilland['Model And Make'].replace(to_replace= 'TwinOtter', value='', inplace=True, regex=True)\n",
    "df_DeHavilland['Model And Make'].replace(to_replace= 'TWINOTTER', value='', inplace=True, regex=True)\n",
    "df_DeHavilland['Model And Make'].replace(to_replace= 'VampireMK3', value='DH115', inplace=True, regex=True)\n",
    "df_DeHavilland['Model And Make'].replace(to_replace= 'VAMPIRE', value='', inplace=True, regex=True)\n",
    "df_DeHavilland['Model And Make'].replace(to_replace= 'DHC', value='', inplace=True, regex=True)\n",
    "df_DeHavilland['Model And Make'].replace(to_replace= 'DH', value='', inplace=True, regex=True)\n",
    "df_DeHavilland['Model And Make'] = df_DeHavilland['Model And Make'].str[:3]\n",
    "df_DeHavilland['Model And Make'].replace(to_replace= 'MK', value='', inplace=True, regex=True)\n",
    "df_DeHavilland['Model And Make'].replace(to_replace= 'TW', value='', inplace=True, regex=True)\n",
    "df_DeHavilland['Model And Make'].replace(to_replace= 'T', value='', inplace=True, regex=True)\n",
    "df_DeHavilland['Model And Make'].replace(to_replace= 'L2', value='', inplace=True, regex=True)\n",
    "df_DeHavilland['Model And Make'].replace(to_replace= '/U', value='', inplace=True, regex=True)\n",
    "df_DeHavilland['Model And Make'].replace(to_replace= 'U', value='', inplace=True, regex=True)\n",
    "df_DeHavilland['Model And Make'].replace(to_replace= 'A', value='', inplace=True, regex=True)"
   ]
  },
  {
   "cell_type": "code",
   "execution_count": 25,
   "id": "2a1ecd69",
   "metadata": {
    "scrolled": false
   },
   "outputs": [],
   "source": [
    "# fig, ax = plt.subplots(figsize=(13,8))\n",
    "# ax.scatter(x='Model And Make', y='Severity Ratio', data= df_DeHavilland, alpha=0.4)\n",
    "# ax.tick_params(axis='x', labelsize=10, labelrotation=45)\n",
    "# ax.set_title('DeHavilland Severity Scatter Plot')\n",
    "# ax.set_ylim(top=50, bottom=-60)\n",
    "# plt.tight_layout()"
   ]
  }
 ],
 "metadata": {
  "kernelspec": {
   "display_name": "Python (learn-env)",
   "language": "python",
   "name": "learn-env"
  },
  "language_info": {
   "codemirror_mode": {
    "name": "ipython",
    "version": 3
   },
   "file_extension": ".py",
   "mimetype": "text/x-python",
   "name": "python",
   "nbconvert_exporter": "python",
   "pygments_lexer": "ipython3",
   "version": "3.10.9"
  }
 },
 "nbformat": 4,
 "nbformat_minor": 5
}
