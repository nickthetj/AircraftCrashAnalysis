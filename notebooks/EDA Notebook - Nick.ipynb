{
 "cells": [
  {
   "cell_type": "code",
   "execution_count": 1,
   "id": "bef0dd64",
   "metadata": {},
   "outputs": [],
   "source": [
    "import pandas as pd\n",
    "import numpy as np\n",
    "import matplotlib.pyplot as plt\n",
    "import seaborn as sns\n",
    "%matplotlib inline"
   ]
  },
  {
   "cell_type": "code",
   "execution_count": 2,
   "id": "3ee57ed2",
   "metadata": {},
   "outputs": [],
   "source": [
    "df = pd.read_csv(\"../data/archive/AviationData.csv\", encoding='cp1252', low_memory=False)\n",
    "# US_State_Codes = pd.read_csv('../data/archive/USState_Codes.csv', encoding='cp1252', low_memory=False)"
   ]
  },
  {
   "cell_type": "code",
   "execution_count": 3,
   "id": "6a2e62d6",
   "metadata": {
    "scrolled": true
   },
   "outputs": [
    {
     "data": {
      "text/html": [
       "<div>\n",
       "<style scoped>\n",
       "    .dataframe tbody tr th:only-of-type {\n",
       "        vertical-align: middle;\n",
       "    }\n",
       "\n",
       "    .dataframe tbody tr th {\n",
       "        vertical-align: top;\n",
       "    }\n",
       "\n",
       "    .dataframe thead th {\n",
       "        text-align: right;\n",
       "    }\n",
       "</style>\n",
       "<table border=\"1\" class=\"dataframe\">\n",
       "  <thead>\n",
       "    <tr style=\"text-align: right;\">\n",
       "      <th></th>\n",
       "      <th>Investigation Type</th>\n",
       "      <th>Event Date</th>\n",
       "      <th>Location</th>\n",
       "      <th>Country</th>\n",
       "      <th>Injury Severity</th>\n",
       "      <th>Aircraft Damage</th>\n",
       "      <th>Make</th>\n",
       "      <th>Model</th>\n",
       "      <th>Number Of Engines</th>\n",
       "      <th>Engine Type</th>\n",
       "      <th>Far Description</th>\n",
       "      <th>Schedule</th>\n",
       "      <th>Purpose Of Flight</th>\n",
       "      <th>Air Carrier</th>\n",
       "      <th>Total Fatal Injuries</th>\n",
       "      <th>Total Serious Injuries</th>\n",
       "      <th>Total Minor Injuries</th>\n",
       "      <th>Total Uninjured</th>\n",
       "      <th>Broad Phase Of Flight</th>\n",
       "      <th>Report Status</th>\n",
       "    </tr>\n",
       "  </thead>\n",
       "  <tbody>\n",
       "    <tr>\n",
       "      <th>5</th>\n",
       "      <td>Accident</td>\n",
       "      <td>1979-09-17</td>\n",
       "      <td>BOSTON, MA</td>\n",
       "      <td>United States</td>\n",
       "      <td>Non-Fatal</td>\n",
       "      <td>Substantial</td>\n",
       "      <td>Mcdonnell Douglas</td>\n",
       "      <td>DC9</td>\n",
       "      <td>2.0</td>\n",
       "      <td>Turbo Fan</td>\n",
       "      <td>Part 129: Foreign</td>\n",
       "      <td>SCHD</td>\n",
       "      <td>NaN</td>\n",
       "      <td>Air Canada</td>\n",
       "      <td>NaN</td>\n",
       "      <td>NaN</td>\n",
       "      <td>1.0</td>\n",
       "      <td>44.0</td>\n",
       "      <td>Climb</td>\n",
       "      <td>Probable Cause</td>\n",
       "    </tr>\n",
       "    <tr>\n",
       "      <th>7</th>\n",
       "      <td>Accident</td>\n",
       "      <td>1982-01-01</td>\n",
       "      <td>PULLMAN, WA</td>\n",
       "      <td>United States</td>\n",
       "      <td>Non-Fatal</td>\n",
       "      <td>Substantial</td>\n",
       "      <td>Cessna</td>\n",
       "      <td>140</td>\n",
       "      <td>1.0</td>\n",
       "      <td>Reciprocating</td>\n",
       "      <td>Part 91: General Aviation</td>\n",
       "      <td>NaN</td>\n",
       "      <td>Personal</td>\n",
       "      <td>NaN</td>\n",
       "      <td>0.0</td>\n",
       "      <td>0.0</td>\n",
       "      <td>0.0</td>\n",
       "      <td>2.0</td>\n",
       "      <td>Takeoff</td>\n",
       "      <td>Probable Cause</td>\n",
       "    </tr>\n",
       "    <tr>\n",
       "      <th>8</th>\n",
       "      <td>Accident</td>\n",
       "      <td>1982-01-01</td>\n",
       "      <td>EAST HANOVER, NJ</td>\n",
       "      <td>United States</td>\n",
       "      <td>Non-Fatal</td>\n",
       "      <td>Substantial</td>\n",
       "      <td>Cessna</td>\n",
       "      <td>401B</td>\n",
       "      <td>2.0</td>\n",
       "      <td>Reciprocating</td>\n",
       "      <td>Part 91: General Aviation</td>\n",
       "      <td>NaN</td>\n",
       "      <td>Business</td>\n",
       "      <td>NaN</td>\n",
       "      <td>0.0</td>\n",
       "      <td>0.0</td>\n",
       "      <td>0.0</td>\n",
       "      <td>2.0</td>\n",
       "      <td>Landing</td>\n",
       "      <td>Probable Cause</td>\n",
       "    </tr>\n",
       "    <tr>\n",
       "      <th>12</th>\n",
       "      <td>Accident</td>\n",
       "      <td>1982-01-02</td>\n",
       "      <td>HOMER, LA</td>\n",
       "      <td>United States</td>\n",
       "      <td>Non-Fatal</td>\n",
       "      <td>Destroyed</td>\n",
       "      <td>Bellanca</td>\n",
       "      <td>17-30A</td>\n",
       "      <td>1.0</td>\n",
       "      <td>Reciprocating</td>\n",
       "      <td>Part 91: General Aviation</td>\n",
       "      <td>NaN</td>\n",
       "      <td>Personal</td>\n",
       "      <td>NaN</td>\n",
       "      <td>0.0</td>\n",
       "      <td>0.0</td>\n",
       "      <td>1.0</td>\n",
       "      <td>0.0</td>\n",
       "      <td>Cruise</td>\n",
       "      <td>Probable Cause</td>\n",
       "    </tr>\n",
       "    <tr>\n",
       "      <th>13</th>\n",
       "      <td>Accident</td>\n",
       "      <td>1982-01-02</td>\n",
       "      <td>HEARNE, TX</td>\n",
       "      <td>United States</td>\n",
       "      <td>Fatal(1)</td>\n",
       "      <td>Destroyed</td>\n",
       "      <td>Cessna</td>\n",
       "      <td>R172K</td>\n",
       "      <td>1.0</td>\n",
       "      <td>Reciprocating</td>\n",
       "      <td>Part 91: General Aviation</td>\n",
       "      <td>NaN</td>\n",
       "      <td>Personal</td>\n",
       "      <td>NaN</td>\n",
       "      <td>1.0</td>\n",
       "      <td>0.0</td>\n",
       "      <td>0.0</td>\n",
       "      <td>0.0</td>\n",
       "      <td>Takeoff</td>\n",
       "      <td>Probable Cause</td>\n",
       "    </tr>\n",
       "  </tbody>\n",
       "</table>\n",
       "</div>"
      ],
      "text/plain": [
       "   Investigation Type  Event Date          Location        Country  \\\n",
       "5            Accident  1979-09-17        BOSTON, MA  United States   \n",
       "7            Accident  1982-01-01       PULLMAN, WA  United States   \n",
       "8            Accident  1982-01-01  EAST HANOVER, NJ  United States   \n",
       "12           Accident  1982-01-02         HOMER, LA  United States   \n",
       "13           Accident  1982-01-02        HEARNE, TX  United States   \n",
       "\n",
       "   Injury Severity Aircraft Damage               Make   Model  \\\n",
       "5        Non-Fatal     Substantial  Mcdonnell Douglas     DC9   \n",
       "7        Non-Fatal     Substantial             Cessna     140   \n",
       "8        Non-Fatal     Substantial             Cessna    401B   \n",
       "12       Non-Fatal       Destroyed           Bellanca  17-30A   \n",
       "13        Fatal(1)       Destroyed             Cessna   R172K   \n",
       "\n",
       "    Number Of Engines    Engine Type            Far Description Schedule  \\\n",
       "5                 2.0      Turbo Fan          Part 129: Foreign     SCHD   \n",
       "7                 1.0  Reciprocating  Part 91: General Aviation      NaN   \n",
       "8                 2.0  Reciprocating  Part 91: General Aviation      NaN   \n",
       "12                1.0  Reciprocating  Part 91: General Aviation      NaN   \n",
       "13                1.0  Reciprocating  Part 91: General Aviation      NaN   \n",
       "\n",
       "   Purpose Of Flight Air Carrier  Total Fatal Injuries  \\\n",
       "5                NaN  Air Canada                   NaN   \n",
       "7           Personal         NaN                   0.0   \n",
       "8           Business         NaN                   0.0   \n",
       "12          Personal         NaN                   0.0   \n",
       "13          Personal         NaN                   1.0   \n",
       "\n",
       "    Total Serious Injuries  Total Minor Injuries  Total Uninjured  \\\n",
       "5                      NaN                   1.0             44.0   \n",
       "7                      0.0                   0.0              2.0   \n",
       "8                      0.0                   0.0              2.0   \n",
       "12                     0.0                   1.0              0.0   \n",
       "13                     0.0                   0.0              0.0   \n",
       "\n",
       "   Broad Phase Of Flight   Report Status  \n",
       "5                  Climb  Probable Cause  \n",
       "7                Takeoff  Probable Cause  \n",
       "8                Landing  Probable Cause  \n",
       "12                Cruise  Probable Cause  \n",
       "13               Takeoff  Probable Cause  "
      ]
     },
     "execution_count": 3,
     "metadata": {},
     "output_type": "execute_result"
    }
   ],
   "source": [
    "# Data Cleaning \n",
    "df.columns = df.columns.str.replace('.', ' ', regex=True)\n",
    "df.columns = df.columns.str.title()\n",
    "# dropping rows that are non-Airplane related\n",
    "df = df[(df['Aircraft Category'] == 'Airplane')]\n",
    "# dropping rows that are Amateur-Built aircraft\n",
    "df = df[(df['Amateur Built'] == 'No')]\n",
    "# capitalizing all Make strings to avoid double categories\n",
    "df['Make'] = df['Make'].str.title() \n",
    "# capitalizing all Air Carrier strings to avoid double categories\n",
    "df['Air Carrier'] = df['Air Carrier'].str.title() \n",
    "# capitalizing all Air Carrier strings to avoid double categories\n",
    "df['Weather Condition'] = df['Weather Condition'].str.upper() \n",
    "\n",
    "# dropping unimportant columns, mostly ID numbers\n",
    "df.drop(axis=1, inplace=True, labels=['Aircraft Category', 'Airport Code', 'Publication Date', 'Weather Condition',\n",
    "                                      'Airport Name', 'Amateur Built', 'Event Id', 'Accident Number', 'Registration Number', 'Latitude', 'Longitude'])\n",
    "df.head()"
   ]
  },
  {
   "cell_type": "code",
   "execution_count": 4,
   "id": "d8db0bba",
   "metadata": {},
   "outputs": [
    {
     "name": "stdout",
     "output_type": "stream",
     "text": [
      "<class 'pandas.core.frame.DataFrame'>\n",
      "Int64Index: 24417 entries, 5 to 88886\n",
      "Data columns (total 20 columns):\n",
      " #   Column                  Non-Null Count  Dtype  \n",
      "---  ------                  --------------  -----  \n",
      " 0   Investigation Type      24417 non-null  object \n",
      " 1   Event Date              24417 non-null  object \n",
      " 2   Location                24411 non-null  object \n",
      " 3   Country                 24410 non-null  object \n",
      " 4   Injury Severity         23604 non-null  object \n",
      " 5   Aircraft Damage         23147 non-null  object \n",
      " 6   Make                    24414 non-null  object \n",
      " 7   Model                   24399 non-null  object \n",
      " 8   Number Of Engines       21866 non-null  float64\n",
      " 9   Engine Type             20461 non-null  object \n",
      " 10  Far Description         23937 non-null  object \n",
      " 11  Schedule                2936 non-null   object \n",
      " 12  Purpose Of Flight       20734 non-null  object \n",
      " 13  Air Carrier             10356 non-null  object \n",
      " 14  Total Fatal Injuries    21651 non-null  float64\n",
      " 15  Total Serious Injuries  21571 non-null  float64\n",
      " 16  Total Minor Injuries    21855 non-null  float64\n",
      " 17  Total Uninjured         23699 non-null  float64\n",
      " 18  Broad Phase Of Flight   5796 non-null   object \n",
      " 19  Report Status           19755 non-null  object \n",
      "dtypes: float64(5), object(15)\n",
      "memory usage: 3.9+ MB\n"
     ]
    }
   ],
   "source": [
    "df.info()"
   ]
  },
  {
   "cell_type": "code",
   "execution_count": 5,
   "id": "dbf9b574",
   "metadata": {
    "scrolled": true
   },
   "outputs": [],
   "source": [
    "# df['Make'].value_counts() "
   ]
  },
  {
   "cell_type": "code",
   "execution_count": 6,
   "id": "55494063",
   "metadata": {},
   "outputs": [],
   "source": [
    "# df['Model'].value_counts()"
   ]
  },
  {
   "cell_type": "code",
   "execution_count": 7,
   "id": "516f3405",
   "metadata": {},
   "outputs": [],
   "source": [
    "# df['Number Of Engines'].value_counts() \n",
    "# possible correlation with aircraft damage/injury"
   ]
  },
  {
   "cell_type": "code",
   "execution_count": 8,
   "id": "cc2fed92",
   "metadata": {},
   "outputs": [
    {
     "data": {
      "text/plain": [
       "091                               13409\n",
       "Part 91: General Aviation          5077\n",
       "NUSN                               1122\n",
       "NUSC                                804\n",
       "137                                 742\n",
       "121                                 653\n",
       "135                                 540\n",
       "Part 137: Agricultural              360\n",
       "Part 135: Air Taxi & Commuter       233\n",
       "UNK                                 228\n",
       "129                                 202\n",
       "Part 121: Air Carrier               161\n",
       "PUBU                                125\n",
       "Part 129: Foreign                    78\n",
       "Non-U.S., Non-Commercial             72\n",
       "Non-U.S., Commercial                 67\n",
       "Unknown                              18\n",
       "091K                                 14\n",
       "Public Use                           12\n",
       "125                                   5\n",
       "Part 125: 20+ Pax,6000+ lbs           5\n",
       "ARMF                                  4\n",
       "Part 133: Rotorcraft Ext. Load        2\n",
       "Part 91 Subpart K: Fractional         1\n",
       "Public Aircraft                       1\n",
       "Part 91F: Special Flt Ops.            1\n",
       "107                                   1\n",
       "Name: Far Description, dtype: int64"
      ]
     },
     "execution_count": 8,
     "metadata": {},
     "output_type": "execute_result"
    }
   ],
   "source": [
    "df['Far Description'].value_counts()\n"
   ]
  },
  {
   "cell_type": "code",
   "execution_count": 9,
   "id": "66a30c48",
   "metadata": {
    "scrolled": true
   },
   "outputs": [
    {
     "data": {
      "text/plain": [
       "Part 91: General Aviation                                  18500\n",
       "NUSN                                                        1122\n",
       "NUSC                                                         804\n",
       "Part 137: Agricultural                                       742\n",
       "Part 121: Air Carrier                                        653\n",
       "Part 135: Air Taxi & Commuter                                540\n",
       "Part Part 137: Agricultural: Agricultural                    360\n",
       "Part Part 135: Air Taxi & Commuter: Air Taxi & Commuter      233\n",
       "UNK                                                          228\n",
       "Part 129: Foreign                                            202\n",
       "Part Part 121: Air Carrier: Air Carrier                      161\n",
       "PUBU                                                         125\n",
       "Part Part 129: Foreign: Foreign                               78\n",
       "Non-U.S., Non-Commercial                                      72\n",
       "Non-U.S., Commercial                                          67\n",
       "Unknown                                                       18\n",
       "Public Use                                                    12\n",
       "Part 125: 20+ Pax,6000+ lbs                                    5\n",
       "125                                                            5\n",
       "ARMF                                                           4\n",
       "Part 133: Rotorcraft Ext. Load                                 2\n",
       "Part 91 Subpart K: Fractional                                  1\n",
       "Public Aircraft                                                1\n",
       "Part 91F: Special Flt Ops.                                     1\n",
       "107                                                            1\n",
       "Name: Far Description, dtype: int64"
      ]
     },
     "execution_count": 9,
     "metadata": {},
     "output_type": "execute_result"
    }
   ],
   "source": [
    "# df[df['Far Description' 'Model']]\n",
    "\n",
    "df['Far Description'] = df['Far Description'].str.replace('091', 'Part 91: General Aviation')\n",
    "df['Far Description'] = df['Far Description'].str.replace('Part 91: General AviationK', 'Part 91: General Aviation')\n",
    "df['Far Description'] = df['Far Description'].str.replace('137', 'Part 137: Agricultural')\n",
    "df['Far Description'] = df['Far Description'].str.replace('121', 'Part 121: Air Carrier')\n",
    "df['Far Description'] = df['Far Description'].str.replace('135', 'Part 135: Air Taxi & Commuter')\n",
    "df['Far Description'] = df['Far Description'].str.replace('091', 'Part 91: General Aviation')\n",
    "df['Far Description'] = df['Far Description'].str.replace('129', 'Part 129: Foreign')\n",
    "\n",
    "df['Far Description'].value_counts()\n",
    "\n"
   ]
  },
  {
   "cell_type": "code",
   "execution_count": 10,
   "id": "c86010b2",
   "metadata": {},
   "outputs": [],
   "source": [
    "# df['Schedule'].value_counts()\n",
    "\n",
    "# only three values Scheduled, Unscheduled, Unknown\n",
    "# replace strings for more clarity"
   ]
  },
  {
   "cell_type": "code",
   "execution_count": 11,
   "id": "54e544ae",
   "metadata": {
    "scrolled": true
   },
   "outputs": [
    {
     "data": {
      "text/plain": [
       "Personal                     13339\n",
       "Instructional                 3120\n",
       "Aerial Application            1066\n",
       "Unknown                        838\n",
       "Business                       764\n",
       "Positioning                    350\n",
       "Aerial Observation             170\n",
       "Skydiving                      166\n",
       "Ferry                          163\n",
       "Other Work Use                 155\n",
       "Executive/corporate            148\n",
       "Flight Test                    120\n",
       "Banner Tow                      89\n",
       "Public Aircraft - Federal       52\n",
       "Air Race show                   48\n",
       "Public Aircraft                 42\n",
       "Glider Tow                      35\n",
       "Public Aircraft - State         24\n",
       "Firefighting                    17\n",
       "Public Aircraft - Local         12\n",
       "ASHO                             5\n",
       "Air Race/show                    4\n",
       "Air Drop                         3\n",
       "PUBS                             3\n",
       "External Load                    1\n",
       "Name: Purpose Of Flight, dtype: int64"
      ]
     },
     "execution_count": 11,
     "metadata": {},
     "output_type": "execute_result"
    }
   ],
   "source": [
    "df['Purpose Of Flight'].value_counts()\n",
    "# get rid of aerial applications and most of the other categories"
   ]
  },
  {
   "cell_type": "code",
   "execution_count": 12,
   "id": "91be366d",
   "metadata": {},
   "outputs": [
    {
     "data": {
      "text/plain": [
       "Pilot                    174\n",
       "American Airlines         47\n",
       "United Airlines           43\n",
       "Southwest Airlines Co     43\n",
       "Delta Air Lines           42\n",
       "                        ... \n",
       "Highlight Sport Llc        1\n",
       "Olmsted Aaron Jr           1\n",
       "Uni-Air                    1\n",
       "Oklahoma Aviation Llc      1\n",
       "Gerber Richard E           1\n",
       "Name: Air Carrier, Length: 8508, dtype: int64"
      ]
     },
     "execution_count": 12,
     "metadata": {},
     "output_type": "execute_result"
    }
   ],
   "source": [
    "df['Air Carrier'].value_counts() \n",
    "# comparison with frequency of accidents"
   ]
  },
  {
   "cell_type": "code",
   "execution_count": 13,
   "id": "fb255c86",
   "metadata": {},
   "outputs": [],
   "source": [
    "# df['Broad Phase Of Flight'].value_counts()\n"
   ]
  }
 ],
 "metadata": {
  "kernelspec": {
   "display_name": "Python (learn-env)",
   "language": "python",
   "name": "learn-env"
  },
  "language_info": {
   "codemirror_mode": {
    "name": "ipython",
    "version": 3
   },
   "file_extension": ".py",
   "mimetype": "text/x-python",
   "name": "python",
   "nbconvert_exporter": "python",
   "pygments_lexer": "ipython3",
   "version": "3.10.9"
  }
 },
 "nbformat": 4,
 "nbformat_minor": 5
}
